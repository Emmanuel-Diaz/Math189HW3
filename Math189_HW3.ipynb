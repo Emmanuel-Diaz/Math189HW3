{
 "cells": [
  {
   "cell_type": "markdown",
   "metadata": {},
   "source": [
    "# MATH 189 Homework 3"
   ]
  },
  {
   "cell_type": "markdown",
   "metadata": {},
   "source": [
    "## PROBLEM 1"
   ]
  },
  {
   "cell_type": "markdown",
   "metadata": {},
   "source": [
    "1 . Suppose we consider the zinc concentration in bottom water\n",
    "and in surface water as two samples. Denote $\\mu_1$ and $\\mu_2$ the\n",
    "underlying population means of the two samples. Test the null\n",
    "and alternative hypotheses: \n",
    "$$H_{0}: \\mu_1 = \\mu_2\\\\\n",
    "H_{1}: \\mu_1 \\neq \\mu_2$$\n"
   ]
  },
  {
   "cell_type": "code",
   "execution_count": null,
   "metadata": {
    "collapsed": true
   },
   "outputs": [],
   "source": []
  },
  {
   "cell_type": "markdown",
   "metadata": {},
   "source": [
    "2 . The two-sample test depends on the following four\n",
    "assumptions.\n",
    "\n",
    "1. The data from group $i$ has a common mean $\\mu_i$\n",
    "2. Homoskedasticity: The data from all groups have common\n",
    "variance $\\sigma^2$\n",
    "3. Independence: The observations are independently\n",
    "sampled. \n",
    "4. Normality: The data are normally distributed.\n",
    "\n",
    "Pick one assumption from the above four and discuss what will\n",
    "happen if this assumption is violated in practice. "
   ]
  },
  {
   "cell_type": "code",
   "execution_count": null,
   "metadata": {
    "collapsed": true
   },
   "outputs": [],
   "source": []
  },
  {
   "cell_type": "markdown",
   "metadata": {},
   "source": [
    "## PROBLEM 2"
   ]
  },
  {
   "cell_type": "markdown",
   "metadata": {},
   "source": [
    "1 . Decompose the problem into multiple hypotheses testing: for\n",
    "$k=1,...,9$, consider the null $H_0^{(k)}: \\mu_1=\\mu_2=\\mu_3=\\mu_4=\\mu_5$ .\n",
    "Calculate $\\mathcal{F}$-statistics $\\mathcal{F}^{(k)}(k=1,...,9)$ for these nine\n",
    "hypotheses. "
   ]
  },
  {
   "cell_type": "code",
   "execution_count": null,
   "metadata": {
    "collapsed": true
   },
   "outputs": [],
   "source": []
  },
  {
   "cell_type": "markdown",
   "metadata": {},
   "source": [
    "2 . At significance level $\\alpha=0.05$, apply the Bonferroni\n",
    "correction method to test $H_{0}: \\mu_1=\\mu_2=\\mu_3=\\mu_4=\\mu_5$.\n",
    "Summarize your conclusions.  "
   ]
  },
  {
   "cell_type": "code",
   "execution_count": null,
   "metadata": {
    "collapsed": true
   },
   "outputs": [],
   "source": []
  },
  {
   "cell_type": "markdown",
   "metadata": {},
   "source": [
    "3 . Apply the Benjamini-Hochberg method to test the nine\n",
    "hypotheses $H_{0}: \\mu_{1k}=\\mu_{2k}=\\mu_{3k}=\\mu_{4k}=\\mu_{5k},k=1,...,9$,\n",
    "simultaneously with FDR controlled at $\\alpha=0.05$. Summarize\n",
    "your conclusions."
   ]
  },
  {
   "cell_type": "code",
   "execution_count": null,
   "metadata": {
    "collapsed": true
   },
   "outputs": [],
   "source": []
  }
 ],
 "metadata": {
  "kernelspec": {
   "display_name": "Python 3",
   "language": "python",
   "name": "python3"
  },
  "language_info": {
   "codemirror_mode": {
    "name": "ipython",
    "version": 3
   },
   "file_extension": ".py",
   "mimetype": "text/x-python",
   "name": "python",
   "nbconvert_exporter": "python",
   "pygments_lexer": "ipython3",
   "version": "3.6.8"
  }
 },
 "nbformat": 4,
 "nbformat_minor": 2
}
