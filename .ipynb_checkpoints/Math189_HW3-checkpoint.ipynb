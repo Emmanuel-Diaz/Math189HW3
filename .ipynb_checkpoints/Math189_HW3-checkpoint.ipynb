{
 "cells": [
  {
   "cell_type": "markdown",
   "metadata": {},
   "source": [
    "# MATH 189 Homework 3"
   ]
  },
  {
   "cell_type": "code",
   "execution_count": 14,
   "metadata": {
    "collapsed": true
   },
   "outputs": [],
   "source": [
    "import pandas as pd\n",
    "import numpy as np\n",
    "from scipy import stats\n",
    "\n",
    "# Import Data\n",
    "#water = "
   ]
  },
  {
   "cell_type": "markdown",
   "metadata": {},
   "source": [
    "## PROBLEM 1"
   ]
  },
  {
   "cell_type": "markdown",
   "metadata": {},
   "source": [
    "1 . Suppose we consider the zinc concentration in bottom water\n",
    "and in surface water as two samples. Denote $\\mu_1$ and $\\mu_2$ the\n",
    "underlying population means of the two samples. Test the null\n",
    "and alternative hypotheses: \n",
    "$$H_{0}: \\mu_1 = \\mu_2\\\\\n",
    "H_{1}: \\mu_1 \\neq \\mu_2$$\n"
   ]
  },
  {
   "cell_type": "code",
   "execution_count": null,
   "metadata": {},
   "outputs": [],
   "source": [
    "d = water.bottom - water.surface\n",
    "t, p = stats.ttest_1samp(d, 0)\n",
    "alpha = 0.05\n",
    "if p < alpha:\n",
    "    print('We reject the null hypothesis, the sample means are not equal.')\n",
    "else:\n",
    "    print('There is not enough evidence to reject the null hypothesis.')"
   ]
  },
  {
   "cell_type": "markdown",
   "metadata": {},
   "source": [
    "2 . The two-sample test depends on the following four\n",
    "assumptions.\n",
    "\n",
    "1. The data from group $i$ has a common mean $\\mu_i$\n",
    "2. Homoskedasticity: The data from all groups have common\n",
    "variance $\\sigma^2$\n",
    "3. Independence: The observations are independently\n",
    "sampled. \n",
    "4. Normality: The data are normally distributed.\n",
    "\n",
    "Pick one assumption from the above four and discuss what will\n",
    "happen if this assumption is violated in practice. "
   ]
  },
  {
   "cell_type": "code",
   "execution_count": null,
   "metadata": {},
   "outputs": [],
   "source": []
  },
  {
   "cell_type": "markdown",
   "metadata": {},
   "source": [
    "## PROBLEM 2"
   ]
  },
  {
   "cell_type": "markdown",
   "metadata": {},
   "source": [
    "1 . Decompose the problem into multiple hypotheses testing: for\n",
    "$k=1,...,9$, consider the null $H_0^{(k)}: \\mu_1=\\mu_2=\\mu_3=\\mu_4=\\mu_5$ .\n",
    "Calculate $\\mathcal{F}$-statistics $\\mathcal{F}^{(k)}(k=1,...,9)$ for these nine\n",
    "hypotheses. "
   ]
  },
  {
   "cell_type": "code",
   "execution_count": 30,
   "metadata": {},
   "outputs": [],
   "source": [
    "pottery = pd.read_csv('RBPottery.csv')\n",
    "pottery = pottery[~(pottery.Kiln == 3)]\n",
    "\n",
    "f_stats = []\n",
    "p_vals = []\n",
    "\n",
    "kiln1 = pottery[pottery.Kiln == 1]\n",
    "kiln2 = pottery[pottery.Kiln == 2]\n",
    "kiln4 = pottery[pottery.Kiln == 4]\n",
    "kiln5 = pottery[pottery.Kiln == 5]\n",
    "\n",
    "minerals = ['Al2O3', 'Fe2O3', 'MgO', 'CaO', 'Na2O', 'K2O','TiO2', 'MnO', 'BaO']\n",
    "\n",
    "for m in minerals:\n",
    "    f, p = stats.f_oneway(kiln1[m], kiln2[m], kiln4[m], kiln5[m])\n",
    "    f_stats.append(f)\n",
    "    p_vals.append(p)\n",
    "    \n",
    "results = pd.DataFrame({'F': f_stats, 'p': p_vals}, index=minerals)"
   ]
  },
  {
   "cell_type": "code",
   "execution_count": 31,
   "metadata": {},
   "outputs": [
    {
     "data": {
      "text/html": [
       "<div>\n",
       "<style scoped>\n",
       "    .dataframe tbody tr th:only-of-type {\n",
       "        vertical-align: middle;\n",
       "    }\n",
       "\n",
       "    .dataframe tbody tr th {\n",
       "        vertical-align: top;\n",
       "    }\n",
       "\n",
       "    .dataframe thead th {\n",
       "        text-align: right;\n",
       "    }\n",
       "</style>\n",
       "<table border=\"1\" class=\"dataframe\">\n",
       "  <thead>\n",
       "    <tr style=\"text-align: right;\">\n",
       "      <th></th>\n",
       "      <th>F</th>\n",
       "      <th>p</th>\n",
       "    </tr>\n",
       "  </thead>\n",
       "  <tbody>\n",
       "    <tr>\n",
       "      <th>Al2O3</th>\n",
       "      <td>31.306414</td>\n",
       "      <td>8.602438e-11</td>\n",
       "    </tr>\n",
       "    <tr>\n",
       "      <th>Fe2O3</th>\n",
       "      <td>167.892554</td>\n",
       "      <td>2.075886e-23</td>\n",
       "    </tr>\n",
       "    <tr>\n",
       "      <th>MgO</th>\n",
       "      <td>103.188037</td>\n",
       "      <td>2.075129e-19</td>\n",
       "    </tr>\n",
       "    <tr>\n",
       "      <th>CaO</th>\n",
       "      <td>60.851910</td>\n",
       "      <td>2.448593e-15</td>\n",
       "    </tr>\n",
       "    <tr>\n",
       "      <th>Na2O</th>\n",
       "      <td>11.561208</td>\n",
       "      <td>1.174614e-05</td>\n",
       "    </tr>\n",
       "    <tr>\n",
       "      <th>K2O</th>\n",
       "      <td>20.343030</td>\n",
       "      <td>2.692834e-08</td>\n",
       "    </tr>\n",
       "    <tr>\n",
       "      <th>TiO2</th>\n",
       "      <td>6.351567</td>\n",
       "      <td>1.193501e-03</td>\n",
       "    </tr>\n",
       "    <tr>\n",
       "      <th>MnO</th>\n",
       "      <td>18.716849</td>\n",
       "      <td>7.338810e-08</td>\n",
       "    </tr>\n",
       "    <tr>\n",
       "      <th>BaO</th>\n",
       "      <td>0.362216</td>\n",
       "      <td>7.805878e-01</td>\n",
       "    </tr>\n",
       "  </tbody>\n",
       "</table>\n",
       "</div>"
      ],
      "text/plain": [
       "                F             p\n",
       "Al2O3   31.306414  8.602438e-11\n",
       "Fe2O3  167.892554  2.075886e-23\n",
       "MgO    103.188037  2.075129e-19\n",
       "CaO     60.851910  2.448593e-15\n",
       "Na2O    11.561208  1.174614e-05\n",
       "K2O     20.343030  2.692834e-08\n",
       "TiO2     6.351567  1.193501e-03\n",
       "MnO     18.716849  7.338810e-08\n",
       "BaO      0.362216  7.805878e-01"
      ]
     },
     "execution_count": 31,
     "metadata": {},
     "output_type": "execute_result"
    }
   ],
   "source": [
    "results"
   ]
  },
  {
   "cell_type": "markdown",
   "metadata": {},
   "source": [
    "2 . At significance level $\\alpha=0.05$, apply the Bonferroni\n",
    "correction method to test $H_{0}: \\mu_1=\\mu_2=\\mu_3=\\mu_4=\\mu_5$.\n",
    "Summarize your conclusions.  "
   ]
  },
  {
   "cell_type": "code",
   "execution_count": 37,
   "metadata": {},
   "outputs": [
    {
     "data": {
      "text/html": [
       "<div>\n",
       "<style scoped>\n",
       "    .dataframe tbody tr th:only-of-type {\n",
       "        vertical-align: middle;\n",
       "    }\n",
       "\n",
       "    .dataframe tbody tr th {\n",
       "        vertical-align: top;\n",
       "    }\n",
       "\n",
       "    .dataframe thead th {\n",
       "        text-align: right;\n",
       "    }\n",
       "</style>\n",
       "<table border=\"1\" class=\"dataframe\">\n",
       "  <thead>\n",
       "    <tr style=\"text-align: right;\">\n",
       "      <th></th>\n",
       "      <th>F</th>\n",
       "      <th>p</th>\n",
       "      <th>reject</th>\n",
       "    </tr>\n",
       "  </thead>\n",
       "  <tbody>\n",
       "    <tr>\n",
       "      <th>Al2O3</th>\n",
       "      <td>31.306414</td>\n",
       "      <td>8.602438e-11</td>\n",
       "      <td>True</td>\n",
       "    </tr>\n",
       "    <tr>\n",
       "      <th>Fe2O3</th>\n",
       "      <td>167.892554</td>\n",
       "      <td>2.075886e-23</td>\n",
       "      <td>True</td>\n",
       "    </tr>\n",
       "    <tr>\n",
       "      <th>MgO</th>\n",
       "      <td>103.188037</td>\n",
       "      <td>2.075129e-19</td>\n",
       "      <td>True</td>\n",
       "    </tr>\n",
       "    <tr>\n",
       "      <th>CaO</th>\n",
       "      <td>60.851910</td>\n",
       "      <td>2.448593e-15</td>\n",
       "      <td>True</td>\n",
       "    </tr>\n",
       "    <tr>\n",
       "      <th>Na2O</th>\n",
       "      <td>11.561208</td>\n",
       "      <td>1.174614e-05</td>\n",
       "      <td>True</td>\n",
       "    </tr>\n",
       "    <tr>\n",
       "      <th>K2O</th>\n",
       "      <td>20.343030</td>\n",
       "      <td>2.692834e-08</td>\n",
       "      <td>True</td>\n",
       "    </tr>\n",
       "    <tr>\n",
       "      <th>TiO2</th>\n",
       "      <td>6.351567</td>\n",
       "      <td>1.193501e-03</td>\n",
       "      <td>True</td>\n",
       "    </tr>\n",
       "    <tr>\n",
       "      <th>MnO</th>\n",
       "      <td>18.716849</td>\n",
       "      <td>7.338810e-08</td>\n",
       "      <td>True</td>\n",
       "    </tr>\n",
       "    <tr>\n",
       "      <th>BaO</th>\n",
       "      <td>0.362216</td>\n",
       "      <td>7.805878e-01</td>\n",
       "      <td>False</td>\n",
       "    </tr>\n",
       "  </tbody>\n",
       "</table>\n",
       "</div>"
      ],
      "text/plain": [
       "                F             p  reject\n",
       "Al2O3   31.306414  8.602438e-11    True\n",
       "Fe2O3  167.892554  2.075886e-23    True\n",
       "MgO    103.188037  2.075129e-19    True\n",
       "CaO     60.851910  2.448593e-15    True\n",
       "Na2O    11.561208  1.174614e-05    True\n",
       "K2O     20.343030  2.692834e-08    True\n",
       "TiO2     6.351567  1.193501e-03    True\n",
       "MnO     18.716849  7.338810e-08    True\n",
       "BaO      0.362216  7.805878e-01   False"
      ]
     },
     "execution_count": 37,
     "metadata": {},
     "output_type": "execute_result"
    }
   ],
   "source": [
    "def bonferroni(alpha, m, results):\n",
    "    adj_alpha = alpha / m\n",
    "    return results.assign(reject=results.p <= adj_alpha)\n",
    "\n",
    "bonferroni(0.05, 9, results)"
   ]
  },
  {
   "cell_type": "markdown",
   "metadata": {},
   "source": [
    "3 . Apply the Benjamini-Hochberg method to test the nine\n",
    "hypotheses $H_{0}: \\mu_{1k}=\\mu_{2k}=\\mu_{3k}=\\mu_{4k}=\\mu_{5k},k=1,...,9$,\n",
    "simultaneously with FDR controlled at $\\alpha=0.05$. Summarize\n",
    "your conclusions."
   ]
  },
  {
   "cell_type": "code",
   "execution_count": 42,
   "metadata": {},
   "outputs": [],
   "source": [
    "def bh_correct(alpha, m, results):\n",
    "    sorted_p = sorted(results.p)\n",
    "    ranks = np.arange(1, m+1)\n",
    "    \n",
    "    adj_alphas = (ranks * alpha) / m\n",
    "    rejected = sorted_p <= adj_alphas\n",
    "    BH_thresh = max(adj_alphas[rejected == True])\n",
    "    return BH_thresh, results.assign(reject=results.p <= BH_thresh)\n",
    "\n",
    "BH_thresh, out = bh_correct(0.05, 9, results)"
   ]
  },
  {
   "cell_type": "code",
   "execution_count": 43,
   "metadata": {},
   "outputs": [
    {
     "data": {
      "text/plain": [
       "0.044444444444444446"
      ]
     },
     "execution_count": 43,
     "metadata": {},
     "output_type": "execute_result"
    }
   ],
   "source": [
    "BH_thresh"
   ]
  },
  {
   "cell_type": "code",
   "execution_count": 44,
   "metadata": {},
   "outputs": [
    {
     "data": {
      "text/html": [
       "<div>\n",
       "<style scoped>\n",
       "    .dataframe tbody tr th:only-of-type {\n",
       "        vertical-align: middle;\n",
       "    }\n",
       "\n",
       "    .dataframe tbody tr th {\n",
       "        vertical-align: top;\n",
       "    }\n",
       "\n",
       "    .dataframe thead th {\n",
       "        text-align: right;\n",
       "    }\n",
       "</style>\n",
       "<table border=\"1\" class=\"dataframe\">\n",
       "  <thead>\n",
       "    <tr style=\"text-align: right;\">\n",
       "      <th></th>\n",
       "      <th>F</th>\n",
       "      <th>p</th>\n",
       "      <th>reject</th>\n",
       "    </tr>\n",
       "  </thead>\n",
       "  <tbody>\n",
       "    <tr>\n",
       "      <th>Al2O3</th>\n",
       "      <td>31.306414</td>\n",
       "      <td>8.602438e-11</td>\n",
       "      <td>True</td>\n",
       "    </tr>\n",
       "    <tr>\n",
       "      <th>Fe2O3</th>\n",
       "      <td>167.892554</td>\n",
       "      <td>2.075886e-23</td>\n",
       "      <td>True</td>\n",
       "    </tr>\n",
       "    <tr>\n",
       "      <th>MgO</th>\n",
       "      <td>103.188037</td>\n",
       "      <td>2.075129e-19</td>\n",
       "      <td>True</td>\n",
       "    </tr>\n",
       "    <tr>\n",
       "      <th>CaO</th>\n",
       "      <td>60.851910</td>\n",
       "      <td>2.448593e-15</td>\n",
       "      <td>True</td>\n",
       "    </tr>\n",
       "    <tr>\n",
       "      <th>Na2O</th>\n",
       "      <td>11.561208</td>\n",
       "      <td>1.174614e-05</td>\n",
       "      <td>True</td>\n",
       "    </tr>\n",
       "    <tr>\n",
       "      <th>K2O</th>\n",
       "      <td>20.343030</td>\n",
       "      <td>2.692834e-08</td>\n",
       "      <td>True</td>\n",
       "    </tr>\n",
       "    <tr>\n",
       "      <th>TiO2</th>\n",
       "      <td>6.351567</td>\n",
       "      <td>1.193501e-03</td>\n",
       "      <td>True</td>\n",
       "    </tr>\n",
       "    <tr>\n",
       "      <th>MnO</th>\n",
       "      <td>18.716849</td>\n",
       "      <td>7.338810e-08</td>\n",
       "      <td>True</td>\n",
       "    </tr>\n",
       "    <tr>\n",
       "      <th>BaO</th>\n",
       "      <td>0.362216</td>\n",
       "      <td>7.805878e-01</td>\n",
       "      <td>False</td>\n",
       "    </tr>\n",
       "  </tbody>\n",
       "</table>\n",
       "</div>"
      ],
      "text/plain": [
       "                F             p  reject\n",
       "Al2O3   31.306414  8.602438e-11    True\n",
       "Fe2O3  167.892554  2.075886e-23    True\n",
       "MgO    103.188037  2.075129e-19    True\n",
       "CaO     60.851910  2.448593e-15    True\n",
       "Na2O    11.561208  1.174614e-05    True\n",
       "K2O     20.343030  2.692834e-08    True\n",
       "TiO2     6.351567  1.193501e-03    True\n",
       "MnO     18.716849  7.338810e-08    True\n",
       "BaO      0.362216  7.805878e-01   False"
      ]
     },
     "execution_count": 44,
     "metadata": {},
     "output_type": "execute_result"
    }
   ],
   "source": [
    "out"
   ]
  },
  {
   "cell_type": "code",
   "execution_count": null,
   "metadata": {
    "collapsed": true
   },
   "outputs": [],
   "source": []
  }
 ],
 "metadata": {
  "kernelspec": {
   "display_name": "Python 3",
   "language": "python",
   "name": "python3"
  },
  "language_info": {
   "codemirror_mode": {
    "name": "ipython",
    "version": 3
   },
   "file_extension": ".py",
   "mimetype": "text/x-python",
   "name": "python",
   "nbconvert_exporter": "python",
   "pygments_lexer": "ipython3",
   "version": "3.6.3"
  }
 },
 "nbformat": 4,
 "nbformat_minor": 2
}
